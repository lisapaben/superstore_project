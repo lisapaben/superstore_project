{
 "cells": [
  {
   "cell_type": "code",
   "execution_count": null,
   "id": "18277032",
   "metadata": {
    "vscode": {
     "languageId": "plaintext"
    }
   },
   "outputs": [],
   "source": [
    "# Project overview & objective (brief)\n"
   ]
  },
  {
   "cell_type": "code",
   "execution_count": null,
   "id": "cc4f5711",
   "metadata": {
    "vscode": {
     "languageId": "plaintext"
    }
   },
   "outputs": [],
   "source": [
    "# Data loading & initial checks"
   ]
  },
  {
   "cell_type": "code",
   "execution_count": null,
   "id": "3a9fccac",
   "metadata": {
    "vscode": {
     "languageId": "plaintext"
    }
   },
   "outputs": [],
   "source": [
    "# Cleaning summary (link/ref to scripts/clean_transform.py)"
   ]
  },
  {
   "cell_type": "code",
   "execution_count": null,
   "id": "164079c5",
   "metadata": {
    "vscode": {
     "languageId": "plaintext"
    }
   },
   "outputs": [],
   "source": [
    "# Exploratory charts (Category, Region, Trend, Discount vs Profit)"
   ]
  },
  {
   "cell_type": "code",
   "execution_count": null,
   "id": "13ff46c2",
   "metadata": {
    "vscode": {
     "languageId": "plaintext"
    }
   },
   "outputs": [],
   "source": [
    "# Key findings (placeholders)"
   ]
  },
  {
   "cell_type": "code",
   "execution_count": null,
   "id": "3be207e7",
   "metadata": {
    "vscode": {
     "languageId": "plaintext"
    }
   },
   "outputs": [],
   "source": [
    "# Next steps / Tableau notes"
   ]
  }
 ],
 "metadata": {
  "language_info": {
   "name": "python"
  }
 },
 "nbformat": 4,
 "nbformat_minor": 5
}
